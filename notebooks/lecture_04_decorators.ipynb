{
 "cells": [
  {
   "cell_type": "markdown",
   "id": "elegant-parallel",
   "metadata": {},
   "source": [
    "## Decorators"
   ]
  },
  {
   "cell_type": "code",
   "execution_count": 1,
   "id": "skilled-handling",
   "metadata": {},
   "outputs": [],
   "source": [
    "import datetime\n",
    "import functools"
   ]
  },
  {
   "cell_type": "code",
   "execution_count": 2,
   "id": "guided-veteran",
   "metadata": {},
   "outputs": [],
   "source": [
    "def test_fun():\n",
    "    print('This is a long operation...')"
   ]
  },
  {
   "cell_type": "code",
   "execution_count": 3,
   "id": "diverse-functionality",
   "metadata": {},
   "outputs": [
    {
     "name": "stdout",
     "output_type": "stream",
     "text": [
      "This is a long operation...\n"
     ]
    }
   ],
   "source": [
    "test_fun()"
   ]
  },
  {
   "cell_type": "code",
   "execution_count": 4,
   "id": "according-penetration",
   "metadata": {},
   "outputs": [],
   "source": [
    "def test_fun():\n",
    "    print(datetime.datetime.now())\n",
    "    print('This is a long operation...')\n",
    "    print(datetime.datetime.now())"
   ]
  },
  {
   "cell_type": "code",
   "execution_count": 5,
   "id": "transsexual-blast",
   "metadata": {},
   "outputs": [
    {
     "name": "stdout",
     "output_type": "stream",
     "text": [
      "2021-03-03 16:13:50.083756\n",
      "This is a long operation...\n",
      "2021-03-03 16:13:50.084091\n"
     ]
    }
   ],
   "source": [
    "test_fun()"
   ]
  },
  {
   "cell_type": "code",
   "execution_count": 6,
   "id": "middle-pipeline",
   "metadata": {},
   "outputs": [],
   "source": [
    "def logger(f):\n",
    "    def wrapped():\n",
    "        print(datetime.datetime.now())\n",
    "        f()\n",
    "        print(datetime.datetime.now())\n",
    "    return wrapped"
   ]
  },
  {
   "cell_type": "code",
   "execution_count": 7,
   "id": "balanced-guyana",
   "metadata": {},
   "outputs": [],
   "source": [
    "def test_fun():\n",
    "    print('This is a long operation...')"
   ]
  },
  {
   "cell_type": "code",
   "execution_count": 8,
   "id": "affiliated-holly",
   "metadata": {},
   "outputs": [],
   "source": [
    "test_fun = logger(test_fun)"
   ]
  },
  {
   "cell_type": "code",
   "execution_count": 9,
   "id": "cleared-nurse",
   "metadata": {},
   "outputs": [
    {
     "name": "stdout",
     "output_type": "stream",
     "text": [
      "2021-03-03 16:16:51.817324\n",
      "This is a long operation...\n",
      "2021-03-03 16:16:51.817500\n"
     ]
    }
   ],
   "source": [
    "test_fun()"
   ]
  },
  {
   "cell_type": "code",
   "execution_count": 10,
   "id": "polyphonic-dover",
   "metadata": {},
   "outputs": [],
   "source": [
    "@logger\n",
    "def test_fun():\n",
    "    print('This is a long operation...')"
   ]
  },
  {
   "cell_type": "code",
   "execution_count": 11,
   "id": "attempted-wallet",
   "metadata": {},
   "outputs": [
    {
     "name": "stdout",
     "output_type": "stream",
     "text": [
      "2021-03-03 16:18:29.905967\n",
      "This is a long operation...\n",
      "2021-03-03 16:18:29.906524\n"
     ]
    }
   ],
   "source": [
    "test_fun()"
   ]
  },
  {
   "cell_type": "code",
   "execution_count": 12,
   "id": "surprising-decline",
   "metadata": {},
   "outputs": [],
   "source": [
    "def logger(f):\n",
    "    def wrapped(*args, **kw):\n",
    "        print(datetime.datetime.now())\n",
    "        f(*args, **kw)\n",
    "        print(datetime.datetime.now())\n",
    "    return wrapped"
   ]
  },
  {
   "cell_type": "code",
   "execution_count": 13,
   "id": "latter-creativity",
   "metadata": {},
   "outputs": [],
   "source": [
    "@logger\n",
    "def test_fun(greetings):\n",
    "    print(f'This is a long operation... {greetings}')"
   ]
  },
  {
   "cell_type": "code",
   "execution_count": 14,
   "id": "intensive-slave",
   "metadata": {},
   "outputs": [
    {
     "name": "stdout",
     "output_type": "stream",
     "text": [
      "2021-03-03 16:22:12.027140\n",
      "This is a long operation... SKJ Class\n",
      "2021-03-03 16:22:12.027440\n"
     ]
    }
   ],
   "source": [
    "test_fun('SKJ Class')"
   ]
  },
  {
   "cell_type": "code",
   "execution_count": 16,
   "id": "stainless-volleyball",
   "metadata": {},
   "outputs": [
    {
     "data": {
      "text/plain": [
       "'print'"
      ]
     },
     "execution_count": 16,
     "metadata": {},
     "output_type": "execute_result"
    }
   ],
   "source": [
    "print.__name__"
   ]
  },
  {
   "cell_type": "code",
   "execution_count": 17,
   "id": "asian-article",
   "metadata": {},
   "outputs": [
    {
     "data": {
      "text/plain": [
       "'wrapped'"
      ]
     },
     "execution_count": 17,
     "metadata": {},
     "output_type": "execute_result"
    }
   ],
   "source": [
    "test_fun.__name__"
   ]
  },
  {
   "cell_type": "code",
   "execution_count": 18,
   "id": "soviet-mixer",
   "metadata": {},
   "outputs": [],
   "source": [
    "def logger(f):\n",
    "    @functools.wraps(f)\n",
    "    def wrapped(*args, **kw):\n",
    "        print(datetime.datetime.now())\n",
    "        f(*args, **kw)\n",
    "        print(datetime.datetime.now())\n",
    "    return wrapped"
   ]
  },
  {
   "cell_type": "code",
   "execution_count": 19,
   "id": "painted-henry",
   "metadata": {},
   "outputs": [],
   "source": [
    "@logger\n",
    "def test_fun(greetings):\n",
    "    print(f'This is a long operation... {greetings}')"
   ]
  },
  {
   "cell_type": "code",
   "execution_count": 20,
   "id": "fixed-wisconsin",
   "metadata": {},
   "outputs": [
    {
     "data": {
      "text/plain": [
       "'test_fun'"
      ]
     },
     "execution_count": 20,
     "metadata": {},
     "output_type": "execute_result"
    }
   ],
   "source": [
    "test_fun.__name__"
   ]
  },
  {
   "cell_type": "code",
   "execution_count": 21,
   "id": "impossible-karaoke",
   "metadata": {},
   "outputs": [],
   "source": [
    "def logger(prefix):\n",
    "    def read_decorator(f):\n",
    "        @functools.wraps(f)\n",
    "        def wrapped(*args, **kw):\n",
    "            print(prefix, datetime.datetime.now())\n",
    "            retval = f(*args, **kw)\n",
    "            print(prefix, datetime.datetime.now())\n",
    "            return retval\n",
    "        return wrapped\n",
    "    return read_decorator"
   ]
  },
  {
   "cell_type": "code",
   "execution_count": 22,
   "id": "suitable-edwards",
   "metadata": {},
   "outputs": [],
   "source": [
    "@logger('My logger prefix:')\n",
    "def test_fun(greetings):\n",
    "    print(f'This is a long operation... {greetings}')"
   ]
  },
  {
   "cell_type": "code",
   "execution_count": 23,
   "id": "understood-tension",
   "metadata": {},
   "outputs": [
    {
     "name": "stdout",
     "output_type": "stream",
     "text": [
      "My logger prefix: 2021-03-03 16:28:20.415308\n",
      "This is a long operation... SKJ Class\n",
      "My logger prefix: 2021-03-03 16:28:20.415740\n"
     ]
    }
   ],
   "source": [
    "test_fun('SKJ Class')"
   ]
  },
  {
   "cell_type": "code",
   "execution_count": null,
   "id": "material-coast",
   "metadata": {},
   "outputs": [],
   "source": []
  }
 ],
 "metadata": {
  "kernelspec": {
   "display_name": "Python 3.6.9 64-bit ('skj': venv)",
   "language": "python",
   "name": "python36964bitskjvenv37e9edb2b84c40b4aecebea1eb80b141"
  },
  "language_info": {
   "codemirror_mode": {
    "name": "ipython",
    "version": 3
   },
   "file_extension": ".py",
   "mimetype": "text/x-python",
   "name": "python",
   "nbconvert_exporter": "python",
   "pygments_lexer": "ipython3",
   "version": "3.6.9"
  }
 },
 "nbformat": 4,
 "nbformat_minor": 5
}
