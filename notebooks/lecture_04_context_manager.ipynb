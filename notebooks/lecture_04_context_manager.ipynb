{
 "cells": [
  {
   "cell_type": "markdown",
   "id": "stunning-bunch",
   "metadata": {},
   "source": [
    "## Context Managers"
   ]
  },
  {
   "cell_type": "code",
   "execution_count": 1,
   "id": "entitled-peter",
   "metadata": {},
   "outputs": [
    {
     "name": "stdout",
     "output_type": "stream",
     "text": [
      "Ostrava:336000\n",
      "\n",
      "Praha:1249000\n",
      "\n",
      "Brno:405000\n",
      "\n",
      "Olomouc:101000\n",
      "\n",
      "Karvina:63000\n",
      "\n",
      "Havirov:82000\n",
      "\n"
     ]
    }
   ],
   "source": [
    "with open('cities.txt', 'rt') as f:\n",
    "    for line in f:\n",
    "        print(line)"
   ]
  },
  {
   "cell_type": "code",
   "execution_count": 2,
   "id": "classical-passing",
   "metadata": {},
   "outputs": [],
   "source": [
    "class MCM:\n",
    "    def __init__(self, filename, mode):\n",
    "        self.filename = filename\n",
    "        self.mode = mode\n",
    "    \n",
    "    def __enter__(self):\n",
    "        self.f = open(self.filename, self.mode)\n",
    "        return self.f\n",
    "    \n",
    "    def __exit__(self, exc_type, exc_value, traceback):\n",
    "        self.f.close()"
   ]
  },
  {
   "cell_type": "code",
   "execution_count": 3,
   "id": "interracial-miniature",
   "metadata": {},
   "outputs": [
    {
     "name": "stdout",
     "output_type": "stream",
     "text": [
      "Ostrava:336000\n",
      "\n",
      "Praha:1249000\n",
      "\n",
      "Brno:405000\n",
      "\n",
      "Olomouc:101000\n",
      "\n",
      "Karvina:63000\n",
      "\n",
      "Havirov:82000\n",
      "\n"
     ]
    }
   ],
   "source": [
    "with MCM('cities.txt', 'rt') as f:\n",
    "    for line in f:\n",
    "        print(line)"
   ]
  },
  {
   "cell_type": "code",
   "execution_count": 8,
   "id": "indirect-drilling",
   "metadata": {},
   "outputs": [],
   "source": [
    "from contextlib import contextmanager\n",
    "\n",
    "@contextmanager\n",
    "def opened(filename, mode='rt'):\n",
    "    f = open(filename, mode)\n",
    "    try:\n",
    "        yield f\n",
    "    finally:\n",
    "        f.close()"
   ]
  },
  {
   "cell_type": "code",
   "execution_count": 9,
   "id": "utility-flower",
   "metadata": {},
   "outputs": [
    {
     "name": "stdout",
     "output_type": "stream",
     "text": [
      "Ostrava:336000\n",
      "\n",
      "Praha:1249000\n",
      "\n",
      "Brno:405000\n",
      "\n",
      "Olomouc:101000\n",
      "\n",
      "Karvina:63000\n",
      "\n",
      "Havirov:82000\n",
      "\n"
     ]
    }
   ],
   "source": [
    "with opened('cities.txt', 'rt') as f:\n",
    "    for line in f:\n",
    "        print(line)"
   ]
  },
  {
   "cell_type": "code",
   "execution_count": null,
   "id": "strategic-trade",
   "metadata": {},
   "outputs": [],
   "source": []
  }
 ],
 "metadata": {
  "kernelspec": {
   "display_name": "Python 3.6.9 64-bit ('skj': venv)",
   "language": "python",
   "name": "python36964bitskjvenv37e9edb2b84c40b4aecebea1eb80b141"
  },
  "language_info": {
   "codemirror_mode": {
    "name": "ipython",
    "version": 3
   },
   "file_extension": ".py",
   "mimetype": "text/x-python",
   "name": "python",
   "nbconvert_exporter": "python",
   "pygments_lexer": "ipython3",
   "version": "3.6.9"
  }
 },
 "nbformat": 4,
 "nbformat_minor": 5
}
