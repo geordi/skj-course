{
 "cells": [
  {
   "cell_type": "code",
   "execution_count": 1,
   "metadata": {},
   "outputs": [],
   "source": [
    "class Document:\n",
    "    \n",
    "    no_of_documents = 0\n",
    "    total_length = 0\n",
    "\n",
    "    def __init__(self, content):\n",
    "        self._content = content\n",
    "        Document.no_of_documents += 1\n",
    "        Document.total_length += len(self._content)\n",
    "\n",
    "    @property\n",
    "    def content(self):\n",
    "        return self._content\n",
    "    \n",
    "    @content.setter\n",
    "    def content(self, content):\n",
    "        Document.total_length -= len(self._content)\n",
    "        self._content = content\n",
    "        Document.total_length += len(self._content)\n",
    "    \n",
    "    @staticmethod\n",
    "    def average_length():\n",
    "        return Document.total_length / Document.no_of_documents\n",
    "    \n",
    "    def __str__(self):\n",
    "        return f'Document: {self._content[:10]}'\n",
    "    \n",
    "    def __repr__(self):\n",
    "        return str(self)"
   ]
  },
  {
   "cell_type": "code",
   "execution_count": 2,
   "metadata": {},
   "outputs": [],
   "source": [
    "class SearchEngine:\n",
    "\n",
    "    def __init__(self):\n",
    "        self.documents = []\n",
    "\n",
    "    def add_document(self, document):\n",
    "        self.documents.append(document)\n",
    "\n",
    "    def search(self, **query):\n",
    "        documents = []\n",
    "\n",
    "        for document in self.documents:\n",
    "            if 'contains' in query:\n",
    "                if document.content.find(query['contains']) >= 0:\n",
    "                    documents.append(document)\n",
    "            if 'icontains' in query:\n",
    "                if document.content.lower().find(query['icontains'].lower()) >= 0:\n",
    "                    documents.append(document)\n",
    "\n",
    "        return documents\n",
    "\n",
    "    def __iter__(self):\n",
    "        for doc in self.documents:\n",
    "            yield doc\n"
   ]
  },
  {
   "cell_type": "code",
   "execution_count": 3,
   "metadata": {},
   "outputs": [],
   "source": [
    "d1 = Document('Text')"
   ]
  },
  {
   "cell_type": "code",
   "execution_count": 4,
   "metadata": {},
   "outputs": [
    {
     "name": "stdout",
     "output_type": "stream",
     "text": [
      "Text\n"
     ]
    }
   ],
   "source": [
    "print(d1.content)"
   ]
  },
  {
   "cell_type": "code",
   "execution_count": 5,
   "metadata": {},
   "outputs": [
    {
     "name": "stdout",
     "output_type": "stream",
     "text": [
      "1\n"
     ]
    }
   ],
   "source": [
    "print(d1.no_of_documents)"
   ]
  },
  {
   "cell_type": "code",
   "execution_count": 6,
   "metadata": {},
   "outputs": [],
   "source": [
    "d2 = Document('Another text')"
   ]
  },
  {
   "cell_type": "code",
   "execution_count": 7,
   "metadata": {},
   "outputs": [
    {
     "name": "stdout",
     "output_type": "stream",
     "text": [
      "2\n"
     ]
    }
   ],
   "source": [
    "print(Document.no_of_documents)"
   ]
  },
  {
   "cell_type": "code",
   "execution_count": 8,
   "metadata": {},
   "outputs": [
    {
     "name": "stdout",
     "output_type": "stream",
     "text": [
      "8.0\n"
     ]
    }
   ],
   "source": [
    "print(Document.average_length())"
   ]
  },
  {
   "cell_type": "code",
   "execution_count": 9,
   "metadata": {},
   "outputs": [
    {
     "name": "stdout",
     "output_type": "stream",
     "text": [
      "14.0\n"
     ]
    }
   ],
   "source": [
    "d2.content = 'Another text second time'\n",
    "print(Document.average_length())"
   ]
  },
  {
   "cell_type": "code",
   "execution_count": 10,
   "metadata": {},
   "outputs": [],
   "source": [
    "se = SearchEngine()\n",
    "se.add_document(d1)\n",
    "se.add_document(d2)"
   ]
  },
  {
   "cell_type": "code",
   "execution_count": 11,
   "metadata": {},
   "outputs": [
    {
     "name": "stdout",
     "output_type": "stream",
     "text": [
      "Case sensitive: [Document: Another te]\n",
      "Case insensitive: [Document: Text, Document: Another te]\n"
     ]
    }
   ],
   "source": [
    "print('Case sensitive:', se.search(contains='text'))\n",
    "print('Case insensitive:', se.search(icontains='text'))"
   ]
  },
  {
   "cell_type": "code",
   "execution_count": 12,
   "metadata": {},
   "outputs": [
    {
     "name": "stdout",
     "output_type": "stream",
     "text": [
      "Iterator:\n",
      "Document: Text\n",
      "Document: Another te\n"
     ]
    }
   ],
   "source": [
    "print('Iterator:')\n",
    "for doc in se:\n",
    "    print(doc)"
   ]
  },
  {
   "cell_type": "markdown",
   "metadata": {},
   "source": [
    "### Generator"
   ]
  },
  {
   "cell_type": "code",
   "execution_count": 13,
   "metadata": {},
   "outputs": [],
   "source": [
    "se_it = iter(se)"
   ]
  },
  {
   "cell_type": "code",
   "execution_count": 14,
   "metadata": {},
   "outputs": [
    {
     "name": "stdout",
     "output_type": "stream",
     "text": [
      "Document: Text\n"
     ]
    }
   ],
   "source": [
    "elem = next(se_it)\n",
    "print(elem)"
   ]
  },
  {
   "cell_type": "code",
   "execution_count": 15,
   "metadata": {},
   "outputs": [
    {
     "name": "stdout",
     "output_type": "stream",
     "text": [
      "Document: Another te\n"
     ]
    }
   ],
   "source": [
    "elem = next(se_it)\n",
    "print(elem)"
   ]
  },
  {
   "cell_type": "code",
   "execution_count": 16,
   "metadata": {},
   "outputs": [
    {
     "ename": "StopIteration",
     "evalue": "",
     "output_type": "error",
     "traceback": [
      "\u001b[0;31m---------------------------------------------------------------------------\u001b[0m",
      "\u001b[0;31mStopIteration\u001b[0m                             Traceback (most recent call last)",
      "\u001b[0;32m<ipython-input-16-5a0a7e172180>\u001b[0m in \u001b[0;36m<module>\u001b[0;34m\u001b[0m\n\u001b[0;32m----> 1\u001b[0;31m \u001b[0melem\u001b[0m \u001b[0;34m=\u001b[0m \u001b[0mnext\u001b[0m\u001b[0;34m(\u001b[0m\u001b[0mse_it\u001b[0m\u001b[0;34m)\u001b[0m\u001b[0;34m\u001b[0m\u001b[0;34m\u001b[0m\u001b[0m\n\u001b[0m\u001b[1;32m      2\u001b[0m \u001b[0mprint\u001b[0m\u001b[0;34m(\u001b[0m\u001b[0melem\u001b[0m\u001b[0;34m)\u001b[0m\u001b[0;34m\u001b[0m\u001b[0;34m\u001b[0m\u001b[0m\n",
      "\u001b[0;31mStopIteration\u001b[0m: "
     ]
    }
   ],
   "source": [
    "elem = next(se_it)\n",
    "print(elem)"
   ]
  },
  {
   "cell_type": "code",
   "execution_count": null,
   "metadata": {},
   "outputs": [],
   "source": []
  }
 ],
 "metadata": {
  "kernelspec": {
   "display_name": "Python 3.6.9 64-bit ('skj': venv)",
   "language": "python",
   "name": "python36964bitskjvenv37e9edb2b84c40b4aecebea1eb80b141"
  },
  "language_info": {
   "codemirror_mode": {
    "name": "ipython",
    "version": 3
   },
   "file_extension": ".py",
   "mimetype": "text/x-python",
   "name": "python",
   "nbconvert_exporter": "python",
   "pygments_lexer": "ipython3",
   "version": "3.6.9"
  }
 },
 "nbformat": 4,
 "nbformat_minor": 2
}
