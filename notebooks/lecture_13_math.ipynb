{
 "cells": [
  {
   "cell_type": "markdown",
   "id": "60a4007d-72af-4d6a-bd68-11382a12fc72",
   "metadata": {},
   "source": [
    "# Math Libraries in Python"
   ]
  },
  {
   "cell_type": "markdown",
   "id": "2dd4485b-0aa0-4873-83c7-f0e99bd46f17",
   "metadata": {},
   "source": [
    "### Jupyter Notebook keyboard shortcuts:\n",
    "\n",
    "`dd` - deletes a cell (*VIM strikes back* :-))"
   ]
  },
  {
   "cell_type": "markdown",
   "id": "ee71848d-63de-4b04-91b2-26c40ab258b2",
   "metadata": {},
   "source": [
    "## Import math tools"
   ]
  },
  {
   "cell_type": "markdown",
   "id": "493a1f7d-861e-44ca-aea4-da96e60ffd5b",
   "metadata": {},
   "source": [
    "Let's start with importing packages.\n",
    "\n",
    "Examples come from [SymPy docs](https://docs.sympy.org/latest/tutorial/intro.html).\n",
    "\n",
    "__Note__: `from package import *` is not really a good idea, but for sake of this demonstration it's OK."
   ]
  },
  {
   "cell_type": "code",
   "execution_count": 2,
   "id": "1d3151a6-cd58-4723-83f8-72d3442b4344",
   "metadata": {},
   "outputs": [],
   "source": [
    "from sympy import *"
   ]
  },
  {
   "cell_type": "markdown",
   "id": "4935b4af-ed34-4ed9-847d-9972891fa457",
   "metadata": {},
   "source": [
    "Let's see the difference of Python's math and SymPy math."
   ]
  },
  {
   "cell_type": "code",
   "execution_count": 3,
   "id": "104b45a1-339b-42f9-bd52-989ca79ad417",
   "metadata": {},
   "outputs": [
    {
     "data": {
      "text/plain": [
       "2.8284271247461903"
      ]
     },
     "execution_count": 3,
     "metadata": {},
     "output_type": "execute_result"
    }
   ],
   "source": [
    "import math\n",
    "math.sqrt(8)"
   ]
  },
  {
   "cell_type": "markdown",
   "id": "5d441bd2-202e-4e84-a952-e497329889fb",
   "metadata": {},
   "source": [
    "This one uses SymPy's `sqrt`."
   ]
  },
  {
   "cell_type": "code",
   "execution_count": 4,
   "id": "90b25ae4-5c3b-49d6-b636-7196e70ee9be",
   "metadata": {},
   "outputs": [
    {
     "data": {
      "text/latex": [
       "$\\displaystyle \\sqrt{3}$"
      ],
      "text/plain": [
       "sqrt(3)"
      ]
     },
     "execution_count": 4,
     "metadata": {},
     "output_type": "execute_result"
    }
   ],
   "source": [
    "sqrt(3)"
   ]
  },
  {
   "cell_type": "code",
   "execution_count": 5,
   "id": "3b953ae5-422b-4d10-a858-8ee5d9ae9906",
   "metadata": {},
   "outputs": [
    {
     "data": {
      "text/latex": [
       "$\\displaystyle 2 \\sqrt{2}$"
      ],
      "text/plain": [
       "2*sqrt(2)"
      ]
     },
     "execution_count": 5,
     "metadata": {},
     "output_type": "execute_result"
    }
   ],
   "source": [
    "sqrt(8)"
   ]
  },
  {
   "cell_type": "markdown",
   "id": "1f353035-637e-47f4-b84b-7a637395b1e8",
   "metadata": {},
   "source": [
    "### Symbolic computation"
   ]
  },
  {
   "cell_type": "code",
   "execution_count": 6,
   "id": "66e7a716-cdf5-4d92-9b83-b2ea2c542c98",
   "metadata": {},
   "outputs": [
    {
     "data": {
      "text/latex": [
       "$\\displaystyle \\frac{x^{3}}{3} + \\frac{x^{2}}{2} + x$"
      ],
      "text/plain": [
       "x**3/3 + x**2/2 + x"
      ]
     },
     "execution_count": 6,
     "metadata": {},
     "output_type": "execute_result"
    }
   ],
   "source": [
    "x = Symbol('x')\n",
    "integrate(x**2 + x + 1, x)"
   ]
  },
  {
   "cell_type": "code",
   "execution_count": 7,
   "id": "c08e6470-44d5-4ec0-81d6-1dbae096c4da",
   "metadata": {},
   "outputs": [
    {
     "data": {
      "text/latex": [
       "$\\displaystyle \\frac{\\sqrt{\\pi} \\operatorname{erf}^{2}{\\left(x \\right)}}{4}$"
      ],
      "text/plain": [
       "sqrt(pi)*erf(x)**2/4"
      ]
     },
     "execution_count": 7,
     "metadata": {},
     "output_type": "execute_result"
    }
   ],
   "source": [
    "integrate(exp(-x**2) * erf(x), x)"
   ]
  },
  {
   "cell_type": "code",
   "execution_count": 8,
   "id": "8a844e2f-444e-4ffd-9870-a94f0c694836",
   "metadata": {},
   "outputs": [
    {
     "data": {
      "text/latex": [
       "$\\displaystyle e^{x} \\sin{\\left(x \\right)} + e^{x} \\cos{\\left(x \\right)}$"
      ],
      "text/plain": [
       "exp(x)*sin(x) + exp(x)*cos(x)"
      ]
     },
     "execution_count": 8,
     "metadata": {},
     "output_type": "execute_result"
    }
   ],
   "source": [
    "diff(sin(x)*exp(x), x)"
   ]
  },
  {
   "cell_type": "markdown",
   "id": "90d704c3-8bf8-4af3-829e-2bbfc30f8125",
   "metadata": {},
   "source": [
    "Notice the space between symbols `a` and `b`."
   ]
  },
  {
   "cell_type": "code",
   "execution_count": 9,
   "id": "86fe1832-1a12-40aa-a9b8-85ec5d2ff9af",
   "metadata": {},
   "outputs": [],
   "source": [
    "x, y = symbols('x y')\n",
    "f = x**2 / y + 2*x - ln(y)"
   ]
  },
  {
   "cell_type": "code",
   "execution_count": 10,
   "id": "79fa79ab-5c0e-4ae7-b448-0d6336e177a8",
   "metadata": {},
   "outputs": [
    {
     "data": {
      "text/latex": [
       "$\\displaystyle \\frac{2 x}{y} + 2$"
      ],
      "text/plain": [
       "2*x/y + 2"
      ]
     },
     "execution_count": 10,
     "metadata": {},
     "output_type": "execute_result"
    }
   ],
   "source": [
    "diff(f, x)"
   ]
  },
  {
   "cell_type": "code",
   "execution_count": 11,
   "id": "030a7439-aaca-484a-a9b0-0f63ecf89698",
   "metadata": {},
   "outputs": [
    {
     "data": {
      "text/latex": [
       "$\\displaystyle - \\frac{x^{2}}{y^{2}} - \\frac{1}{y}$"
      ],
      "text/plain": [
       "-x**2/y**2 - 1/y"
      ]
     },
     "execution_count": 11,
     "metadata": {},
     "output_type": "execute_result"
    }
   ],
   "source": [
    "diff(f, y)"
   ]
  },
  {
   "cell_type": "code",
   "execution_count": 12,
   "id": "059c8710-abe3-423b-bb66-dc04a4059761",
   "metadata": {},
   "outputs": [
    {
     "data": {
      "text/latex": [
       "$\\displaystyle - \\frac{2 x}{y^{2}}$"
      ],
      "text/plain": [
       "-2*x/y**2"
      ]
     },
     "execution_count": 12,
     "metadata": {},
     "output_type": "execute_result"
    }
   ],
   "source": [
    "diff(diff(f, x), y)"
   ]
  },
  {
   "cell_type": "code",
   "execution_count": 13,
   "id": "9ccd5f4e-8df4-4321-8eae-afe6303414dc",
   "metadata": {},
   "outputs": [
    {
     "data": {
      "text/latex": [
       "$\\displaystyle 1$"
      ],
      "text/plain": [
       "1"
      ]
     },
     "execution_count": 13,
     "metadata": {},
     "output_type": "execute_result"
    }
   ],
   "source": [
    "limit(sin(x)/x, x, 0)"
   ]
  },
  {
   "cell_type": "markdown",
   "id": "fb4838f8-5c31-420a-9c2b-bd305a421cce",
   "metadata": {},
   "source": [
    "Solve $x^2 - 2 = 0$."
   ]
  },
  {
   "cell_type": "code",
   "execution_count": 14,
   "id": "932905a3-ccf1-415a-b069-b502eae232ea",
   "metadata": {},
   "outputs": [
    {
     "data": {
      "text/plain": [
       "[-sqrt(2), sqrt(2)]"
      ]
     },
     "execution_count": 14,
     "metadata": {},
     "output_type": "execute_result"
    }
   ],
   "source": [
    "solve(x**2 - 2, x)"
   ]
  },
  {
   "cell_type": "markdown",
   "id": "aa835345-1003-459c-aea5-8e3fb24d2924",
   "metadata": {},
   "source": [
    "Find the eigenvalues of $\\left[\\begin{matrix}1 & 2 \\\\ 2 & 2\\end{matrix}\\right]$."
   ]
  },
  {
   "cell_type": "markdown",
   "id": "6709d606-956b-49b2-9955-6b558fe143be",
   "metadata": {},
   "source": [
    "## Pandas & Plotting\n",
    "\n",
    "[Pandas](https://pandas.pydata.org/) is a data analysis tool.\n",
    "\n",
    "[Matplotlib](https://matplotlib.org/) is a universal tool for plotting data.\n",
    "\n",
    "Installation:\n",
    "\n",
    "```\n",
    "pip install matplotlib\n",
    "pip install pandas\n",
    "```"
   ]
  },
  {
   "cell_type": "markdown",
   "id": "5c140d94-437e-4041-9988-9090f5249b4a",
   "metadata": {},
   "source": [
    "Let's dig into some movies stats using [ggplot2movies dataset](https://github.com/hadley/ggplot2movies)."
   ]
  },
  {
   "cell_type": "markdown",
   "id": "ec79bab9-5b41-4f80-977d-a84e143677d7",
   "metadata": {},
   "source": [
    "## NumPy"
   ]
  },
  {
   "cell_type": "markdown",
   "id": "52542994-ab31-4d7f-9260-036b33adb710",
   "metadata": {},
   "source": [
    "[NumPy](https://numpy.org) is the fundamental package for scientific computing in Python [1].\n",
    "\n",
    "See [NumPy documentation](https://numpy.org/doc/stable/user/index.html) and [NumPy tutorials](https://numpy.org/numpy-tutorials/applications.html). For applied math students there's a [NumPy for MATLAB users](https://numpy.org/doc/stable/user/numpy-for-matlab-users.html) guide.\n",
    "\n",
    "[1] [https://numpy.org/doc/stable/user/whatisnumpy.html](https://numpy.org/doc/stable/user/whatisnumpy.html)"
   ]
  },
  {
   "cell_type": "code",
   "execution_count": 15,
   "id": "87fdac66-0de6-4d6a-bf07-5c54fd01499a",
   "metadata": {},
   "outputs": [
    {
     "data": {
      "text/html": [
       "<div>\n",
       "<style scoped>\n",
       "    .dataframe tbody tr th:only-of-type {\n",
       "        vertical-align: middle;\n",
       "    }\n",
       "\n",
       "    .dataframe tbody tr th {\n",
       "        vertical-align: top;\n",
       "    }\n",
       "\n",
       "    .dataframe thead th {\n",
       "        text-align: right;\n",
       "    }\n",
       "</style>\n",
       "<table border=\"1\" class=\"dataframe\">\n",
       "  <thead>\n",
       "    <tr style=\"text-align: right;\">\n",
       "      <th></th>\n",
       "      <th>title</th>\n",
       "      <th>year</th>\n",
       "      <th>length</th>\n",
       "      <th>budget</th>\n",
       "      <th>rating</th>\n",
       "      <th>votes</th>\n",
       "      <th>r1</th>\n",
       "      <th>r2</th>\n",
       "      <th>r3</th>\n",
       "      <th>r4</th>\n",
       "      <th>...</th>\n",
       "      <th>r9</th>\n",
       "      <th>r10</th>\n",
       "      <th>mpaa</th>\n",
       "      <th>Action</th>\n",
       "      <th>Animation</th>\n",
       "      <th>Comedy</th>\n",
       "      <th>Drama</th>\n",
       "      <th>Documentary</th>\n",
       "      <th>Romance</th>\n",
       "      <th>Short</th>\n",
       "    </tr>\n",
       "  </thead>\n",
       "  <tbody>\n",
       "    <tr>\n",
       "      <th>0</th>\n",
       "      <td>$</td>\n",
       "      <td>1971</td>\n",
       "      <td>121</td>\n",
       "      <td>NaN</td>\n",
       "      <td>6.4</td>\n",
       "      <td>348</td>\n",
       "      <td>4.5</td>\n",
       "      <td>4.5</td>\n",
       "      <td>4.5</td>\n",
       "      <td>4.5</td>\n",
       "      <td>...</td>\n",
       "      <td>4.5</td>\n",
       "      <td>4.5</td>\n",
       "      <td>NaN</td>\n",
       "      <td>0</td>\n",
       "      <td>0</td>\n",
       "      <td>1</td>\n",
       "      <td>1</td>\n",
       "      <td>0</td>\n",
       "      <td>0</td>\n",
       "      <td>0</td>\n",
       "    </tr>\n",
       "    <tr>\n",
       "      <th>1</th>\n",
       "      <td>$1000 a Touchdown</td>\n",
       "      <td>1939</td>\n",
       "      <td>71</td>\n",
       "      <td>NaN</td>\n",
       "      <td>6.0</td>\n",
       "      <td>20</td>\n",
       "      <td>0.0</td>\n",
       "      <td>14.5</td>\n",
       "      <td>4.5</td>\n",
       "      <td>24.5</td>\n",
       "      <td>...</td>\n",
       "      <td>4.5</td>\n",
       "      <td>14.5</td>\n",
       "      <td>NaN</td>\n",
       "      <td>0</td>\n",
       "      <td>0</td>\n",
       "      <td>1</td>\n",
       "      <td>0</td>\n",
       "      <td>0</td>\n",
       "      <td>0</td>\n",
       "      <td>0</td>\n",
       "    </tr>\n",
       "    <tr>\n",
       "      <th>2</th>\n",
       "      <td>$21 a Day Once a Month</td>\n",
       "      <td>1941</td>\n",
       "      <td>7</td>\n",
       "      <td>NaN</td>\n",
       "      <td>8.2</td>\n",
       "      <td>5</td>\n",
       "      <td>0.0</td>\n",
       "      <td>0.0</td>\n",
       "      <td>0.0</td>\n",
       "      <td>0.0</td>\n",
       "      <td>...</td>\n",
       "      <td>24.5</td>\n",
       "      <td>24.5</td>\n",
       "      <td>NaN</td>\n",
       "      <td>0</td>\n",
       "      <td>1</td>\n",
       "      <td>0</td>\n",
       "      <td>0</td>\n",
       "      <td>0</td>\n",
       "      <td>0</td>\n",
       "      <td>1</td>\n",
       "    </tr>\n",
       "    <tr>\n",
       "      <th>3</th>\n",
       "      <td>$40,000</td>\n",
       "      <td>1996</td>\n",
       "      <td>70</td>\n",
       "      <td>NaN</td>\n",
       "      <td>8.2</td>\n",
       "      <td>6</td>\n",
       "      <td>14.5</td>\n",
       "      <td>0.0</td>\n",
       "      <td>0.0</td>\n",
       "      <td>0.0</td>\n",
       "      <td>...</td>\n",
       "      <td>34.5</td>\n",
       "      <td>45.5</td>\n",
       "      <td>NaN</td>\n",
       "      <td>0</td>\n",
       "      <td>0</td>\n",
       "      <td>1</td>\n",
       "      <td>0</td>\n",
       "      <td>0</td>\n",
       "      <td>0</td>\n",
       "      <td>0</td>\n",
       "    </tr>\n",
       "    <tr>\n",
       "      <th>4</th>\n",
       "      <td>$50,000 Climax Show, The</td>\n",
       "      <td>1975</td>\n",
       "      <td>71</td>\n",
       "      <td>NaN</td>\n",
       "      <td>3.4</td>\n",
       "      <td>17</td>\n",
       "      <td>24.5</td>\n",
       "      <td>4.5</td>\n",
       "      <td>0.0</td>\n",
       "      <td>14.5</td>\n",
       "      <td>...</td>\n",
       "      <td>0.0</td>\n",
       "      <td>24.5</td>\n",
       "      <td>NaN</td>\n",
       "      <td>0</td>\n",
       "      <td>0</td>\n",
       "      <td>0</td>\n",
       "      <td>0</td>\n",
       "      <td>0</td>\n",
       "      <td>0</td>\n",
       "      <td>0</td>\n",
       "    </tr>\n",
       "    <tr>\n",
       "      <th>...</th>\n",
       "      <td>...</td>\n",
       "      <td>...</td>\n",
       "      <td>...</td>\n",
       "      <td>...</td>\n",
       "      <td>...</td>\n",
       "      <td>...</td>\n",
       "      <td>...</td>\n",
       "      <td>...</td>\n",
       "      <td>...</td>\n",
       "      <td>...</td>\n",
       "      <td>...</td>\n",
       "      <td>...</td>\n",
       "      <td>...</td>\n",
       "      <td>...</td>\n",
       "      <td>...</td>\n",
       "      <td>...</td>\n",
       "      <td>...</td>\n",
       "      <td>...</td>\n",
       "      <td>...</td>\n",
       "      <td>...</td>\n",
       "      <td>...</td>\n",
       "    </tr>\n",
       "    <tr>\n",
       "      <th>58783</th>\n",
       "      <td>tom thumb</td>\n",
       "      <td>1958</td>\n",
       "      <td>98</td>\n",
       "      <td>NaN</td>\n",
       "      <td>6.5</td>\n",
       "      <td>274</td>\n",
       "      <td>4.5</td>\n",
       "      <td>4.5</td>\n",
       "      <td>4.5</td>\n",
       "      <td>4.5</td>\n",
       "      <td>...</td>\n",
       "      <td>4.5</td>\n",
       "      <td>4.5</td>\n",
       "      <td>NaN</td>\n",
       "      <td>0</td>\n",
       "      <td>1</td>\n",
       "      <td>0</td>\n",
       "      <td>0</td>\n",
       "      <td>0</td>\n",
       "      <td>0</td>\n",
       "      <td>0</td>\n",
       "    </tr>\n",
       "    <tr>\n",
       "      <th>58784</th>\n",
       "      <td>www.XXX.com</td>\n",
       "      <td>2003</td>\n",
       "      <td>105</td>\n",
       "      <td>NaN</td>\n",
       "      <td>1.1</td>\n",
       "      <td>12</td>\n",
       "      <td>45.5</td>\n",
       "      <td>0.0</td>\n",
       "      <td>0.0</td>\n",
       "      <td>0.0</td>\n",
       "      <td>...</td>\n",
       "      <td>0.0</td>\n",
       "      <td>24.5</td>\n",
       "      <td>NaN</td>\n",
       "      <td>0</td>\n",
       "      <td>0</td>\n",
       "      <td>0</td>\n",
       "      <td>1</td>\n",
       "      <td>0</td>\n",
       "      <td>1</td>\n",
       "      <td>0</td>\n",
       "    </tr>\n",
       "    <tr>\n",
       "      <th>58785</th>\n",
       "      <td>www.hellssoapopera.com</td>\n",
       "      <td>1999</td>\n",
       "      <td>100</td>\n",
       "      <td>NaN</td>\n",
       "      <td>6.6</td>\n",
       "      <td>5</td>\n",
       "      <td>24.5</td>\n",
       "      <td>0.0</td>\n",
       "      <td>24.5</td>\n",
       "      <td>0.0</td>\n",
       "      <td>...</td>\n",
       "      <td>24.5</td>\n",
       "      <td>44.5</td>\n",
       "      <td>NaN</td>\n",
       "      <td>0</td>\n",
       "      <td>0</td>\n",
       "      <td>0</td>\n",
       "      <td>0</td>\n",
       "      <td>0</td>\n",
       "      <td>0</td>\n",
       "      <td>0</td>\n",
       "    </tr>\n",
       "    <tr>\n",
       "      <th>58786</th>\n",
       "      <td>xXx</td>\n",
       "      <td>2002</td>\n",
       "      <td>132</td>\n",
       "      <td>85000000.0</td>\n",
       "      <td>5.5</td>\n",
       "      <td>18514</td>\n",
       "      <td>4.5</td>\n",
       "      <td>4.5</td>\n",
       "      <td>4.5</td>\n",
       "      <td>4.5</td>\n",
       "      <td>...</td>\n",
       "      <td>4.5</td>\n",
       "      <td>4.5</td>\n",
       "      <td>PG-13</td>\n",
       "      <td>1</td>\n",
       "      <td>0</td>\n",
       "      <td>0</td>\n",
       "      <td>0</td>\n",
       "      <td>0</td>\n",
       "      <td>0</td>\n",
       "      <td>0</td>\n",
       "    </tr>\n",
       "    <tr>\n",
       "      <th>58787</th>\n",
       "      <td>xXx: State of the Union</td>\n",
       "      <td>2005</td>\n",
       "      <td>101</td>\n",
       "      <td>87000000.0</td>\n",
       "      <td>3.9</td>\n",
       "      <td>1584</td>\n",
       "      <td>24.5</td>\n",
       "      <td>4.5</td>\n",
       "      <td>4.5</td>\n",
       "      <td>4.5</td>\n",
       "      <td>...</td>\n",
       "      <td>4.5</td>\n",
       "      <td>14.5</td>\n",
       "      <td>PG-13</td>\n",
       "      <td>1</td>\n",
       "      <td>0</td>\n",
       "      <td>0</td>\n",
       "      <td>0</td>\n",
       "      <td>0</td>\n",
       "      <td>0</td>\n",
       "      <td>0</td>\n",
       "    </tr>\n",
       "  </tbody>\n",
       "</table>\n",
       "<p>58788 rows × 24 columns</p>\n",
       "</div>"
      ],
      "text/plain": [
       "                          title  year  length      budget  rating  votes  \\\n",
       "0                             $  1971     121         NaN     6.4    348   \n",
       "1             $1000 a Touchdown  1939      71         NaN     6.0     20   \n",
       "2        $21 a Day Once a Month  1941       7         NaN     8.2      5   \n",
       "3                       $40,000  1996      70         NaN     8.2      6   \n",
       "4      $50,000 Climax Show, The  1975      71         NaN     3.4     17   \n",
       "...                         ...   ...     ...         ...     ...    ...   \n",
       "58783                 tom thumb  1958      98         NaN     6.5    274   \n",
       "58784               www.XXX.com  2003     105         NaN     1.1     12   \n",
       "58785    www.hellssoapopera.com  1999     100         NaN     6.6      5   \n",
       "58786                       xXx  2002     132  85000000.0     5.5  18514   \n",
       "58787   xXx: State of the Union  2005     101  87000000.0     3.9   1584   \n",
       "\n",
       "         r1    r2    r3    r4  ...    r9   r10   mpaa  Action  Animation  \\\n",
       "0       4.5   4.5   4.5   4.5  ...   4.5   4.5    NaN       0          0   \n",
       "1       0.0  14.5   4.5  24.5  ...   4.5  14.5    NaN       0          0   \n",
       "2       0.0   0.0   0.0   0.0  ...  24.5  24.5    NaN       0          1   \n",
       "3      14.5   0.0   0.0   0.0  ...  34.5  45.5    NaN       0          0   \n",
       "4      24.5   4.5   0.0  14.5  ...   0.0  24.5    NaN       0          0   \n",
       "...     ...   ...   ...   ...  ...   ...   ...    ...     ...        ...   \n",
       "58783   4.5   4.5   4.5   4.5  ...   4.5   4.5    NaN       0          1   \n",
       "58784  45.5   0.0   0.0   0.0  ...   0.0  24.5    NaN       0          0   \n",
       "58785  24.5   0.0  24.5   0.0  ...  24.5  44.5    NaN       0          0   \n",
       "58786   4.5   4.5   4.5   4.5  ...   4.5   4.5  PG-13       1          0   \n",
       "58787  24.5   4.5   4.5   4.5  ...   4.5  14.5  PG-13       1          0   \n",
       "\n",
       "       Comedy Drama  Documentary  Romance  Short  \n",
       "0           1     1            0        0      0  \n",
       "1           1     0            0        0      0  \n",
       "2           0     0            0        0      1  \n",
       "3           1     0            0        0      0  \n",
       "4           0     0            0        0      0  \n",
       "...       ...   ...          ...      ...    ...  \n",
       "58783       0     0            0        0      0  \n",
       "58784       0     1            0        1      0  \n",
       "58785       0     0            0        0      0  \n",
       "58786       0     0            0        0      0  \n",
       "58787       0     0            0        0      0  \n",
       "\n",
       "[58788 rows x 24 columns]"
      ]
     },
     "execution_count": 15,
     "metadata": {},
     "output_type": "execute_result"
    }
   ],
   "source": [
    "import pandas as pd\n",
    "\n",
    "df = pd.read_csv('movies.csv')\n",
    "df"
   ]
  },
  {
   "cell_type": "code",
   "execution_count": 16,
   "id": "aeb1d888-0bfa-475d-83f4-331bf049a36d",
   "metadata": {},
   "outputs": [
    {
     "data": {
      "text/html": [
       "<div>\n",
       "<style scoped>\n",
       "    .dataframe tbody tr th:only-of-type {\n",
       "        vertical-align: middle;\n",
       "    }\n",
       "\n",
       "    .dataframe tbody tr th {\n",
       "        vertical-align: top;\n",
       "    }\n",
       "\n",
       "    .dataframe thead th {\n",
       "        text-align: right;\n",
       "    }\n",
       "</style>\n",
       "<table border=\"1\" class=\"dataframe\">\n",
       "  <thead>\n",
       "    <tr style=\"text-align: right;\">\n",
       "      <th></th>\n",
       "      <th>year</th>\n",
       "      <th>length</th>\n",
       "    </tr>\n",
       "  </thead>\n",
       "  <tbody>\n",
       "    <tr>\n",
       "      <th>0</th>\n",
       "      <td>1971</td>\n",
       "      <td>121</td>\n",
       "    </tr>\n",
       "    <tr>\n",
       "      <th>1</th>\n",
       "      <td>1939</td>\n",
       "      <td>71</td>\n",
       "    </tr>\n",
       "    <tr>\n",
       "      <th>2</th>\n",
       "      <td>1941</td>\n",
       "      <td>7</td>\n",
       "    </tr>\n",
       "    <tr>\n",
       "      <th>3</th>\n",
       "      <td>1996</td>\n",
       "      <td>70</td>\n",
       "    </tr>\n",
       "    <tr>\n",
       "      <th>4</th>\n",
       "      <td>1975</td>\n",
       "      <td>71</td>\n",
       "    </tr>\n",
       "    <tr>\n",
       "      <th>...</th>\n",
       "      <td>...</td>\n",
       "      <td>...</td>\n",
       "    </tr>\n",
       "    <tr>\n",
       "      <th>58783</th>\n",
       "      <td>1958</td>\n",
       "      <td>98</td>\n",
       "    </tr>\n",
       "    <tr>\n",
       "      <th>58784</th>\n",
       "      <td>2003</td>\n",
       "      <td>105</td>\n",
       "    </tr>\n",
       "    <tr>\n",
       "      <th>58785</th>\n",
       "      <td>1999</td>\n",
       "      <td>100</td>\n",
       "    </tr>\n",
       "    <tr>\n",
       "      <th>58786</th>\n",
       "      <td>2002</td>\n",
       "      <td>132</td>\n",
       "    </tr>\n",
       "    <tr>\n",
       "      <th>58787</th>\n",
       "      <td>2005</td>\n",
       "      <td>101</td>\n",
       "    </tr>\n",
       "  </tbody>\n",
       "</table>\n",
       "<p>58788 rows × 2 columns</p>\n",
       "</div>"
      ],
      "text/plain": [
       "       year  length\n",
       "0      1971     121\n",
       "1      1939      71\n",
       "2      1941       7\n",
       "3      1996      70\n",
       "4      1975      71\n",
       "...     ...     ...\n",
       "58783  1958      98\n",
       "58784  2003     105\n",
       "58785  1999     100\n",
       "58786  2002     132\n",
       "58787  2005     101\n",
       "\n",
       "[58788 rows x 2 columns]"
      ]
     },
     "execution_count": 16,
     "metadata": {},
     "output_type": "execute_result"
    }
   ],
   "source": [
    "#df['year':'length']\n",
    "yl = df[['year', 'length']]\n",
    "yl"
   ]
  },
  {
   "cell_type": "code",
   "execution_count": 17,
   "id": "911d4d04-2079-40b9-a883-75a5919afd73",
   "metadata": {},
   "outputs": [],
   "source": [
    "avg_len = {}\n",
    "for item in yl.iterrows():\n",
    "    item_data = item[1]\n",
    "    y, l = item_data['year'], item_data['length']\n",
    "    if l < 5:\n",
    "        continue\n",
    "    if y in avg_len:\n",
    "        d = avg_len[y]\n",
    "        d = (d[0] + l, d[1] + 1)\n",
    "        avg_len[y] = d\n",
    "    else:\n",
    "        avg_len[y] = (l, 1)\n"
   ]
  },
  {
   "cell_type": "code",
   "execution_count": 18,
   "id": "6aac8829-bbec-4d19-aa14-c492102e7a2b",
   "metadata": {},
   "outputs": [],
   "source": [
    "for k, v in avg_len.items():\n",
    "    avg_len[k] = int(v[0] / v[1])"
   ]
  },
  {
   "cell_type": "code",
   "execution_count": 19,
   "id": "1a163e18-2c24-40ec-a6a6-1fb6e28d6b87",
   "metadata": {},
   "outputs": [
    {
     "data": {
      "text/plain": [
       "{1971: 92,\n",
       " 1939: 64,\n",
       " 1941: 66,\n",
       " 1996: 86,\n",
       " 1975: 94,\n",
       " 2000: 80,\n",
       " 2002: 78,\n",
       " 1987: 98,\n",
       " 1917: 51,\n",
       " 1988: 93,\n",
       " 1994: 89,\n",
       " 1906: 15,\n",
       " 1965: 84,\n",
       " 1983: 95,\n",
       " 1980: 95,\n",
       " 1968: 87,\n",
       " 1981: 96,\n",
       " 1995: 88,\n",
       " 1935: 63,\n",
       " 1974: 93,\n",
       " 1921: 66,\n",
       " 1979: 95,\n",
       " 1989: 94,\n",
       " 1945: 70,\n",
       " 1985: 93,\n",
       " 1997: 86,\n",
       " 1966: 84,\n",
       " 1991: 93,\n",
       " 1942: 64,\n",
       " 1946: 69,\n",
       " 1934: 63,\n",
       " 1986: 92,\n",
       " 2001: 80,\n",
       " 1951: 72,\n",
       " 1907: 8,\n",
       " 1940: 66,\n",
       " 2004: 80,\n",
       " 1959: 86,\n",
       " 1932: 58,\n",
       " 1967: 88,\n",
       " 1990: 94,\n",
       " 1973: 94,\n",
       " 1977: 96,\n",
       " 1998: 84,\n",
       " 1978: 94,\n",
       " 1999: 82,\n",
       " 1984: 93,\n",
       " 2005: 86,\n",
       " 1976: 94,\n",
       " 1970: 98,\n",
       " 1958: 84,\n",
       " 1957: 81,\n",
       " 1964: 90,\n",
       " 1954: 75,\n",
       " 1955: 79,\n",
       " 2003: 77,\n",
       " 1960: 90,\n",
       " 1952: 75,\n",
       " 1982: 93,\n",
       " 1969: 93,\n",
       " 1963: 90,\n",
       " 1993: 93,\n",
       " 1956: 79,\n",
       " 1947: 74,\n",
       " 1962: 90,\n",
       " 1937: 64,\n",
       " 1992: 93,\n",
       " 1948: 71,\n",
       " 1972: 93,\n",
       " 1925: 65,\n",
       " 1944: 70,\n",
       " 1933: 62,\n",
       " 1916: 52,\n",
       " 1930: 62,\n",
       " 1931: 63,\n",
       " 1926: 70,\n",
       " 1953: 75,\n",
       " 1928: 66,\n",
       " 1950: 72,\n",
       " 1938: 63,\n",
       " 1936: 60,\n",
       " 1961: 87,\n",
       " 1918: 54,\n",
       " 1949: 73,\n",
       " 1943: 68,\n",
       " 1927: 69,\n",
       " 1914: 41,\n",
       " 1911: 18,\n",
       " 1908: 9,\n",
       " 1924: 71,\n",
       " 1910: 15,\n",
       " 1915: 40,\n",
       " 1929: 64,\n",
       " 1903: 7,\n",
       " 1923: 63,\n",
       " 1920: 70,\n",
       " 1919: 54,\n",
       " 1909: 10,\n",
       " 1913: 35,\n",
       " 1905: 9,\n",
       " 1922: 74,\n",
       " 1912: 24,\n",
       " 1904: 9,\n",
       " 1901: 5,\n",
       " 1902: 12,\n",
       " 1899: 10}"
      ]
     },
     "execution_count": 19,
     "metadata": {},
     "output_type": "execute_result"
    }
   ],
   "source": [
    "avg_len"
   ]
  },
  {
   "cell_type": "code",
   "execution_count": 20,
   "id": "8b01bd43-488f-4334-8bf9-b0f314d14077",
   "metadata": {},
   "outputs": [
    {
     "data": {
      "text/plain": [
       "(1899, 2005)"
      ]
     },
     "execution_count": 20,
     "metadata": {},
     "output_type": "execute_result"
    }
   ],
   "source": [
    "year_min = min(avg_len.keys())\n",
    "year_max = max(avg_len.keys())\n",
    "\n",
    "year_min, year_max"
   ]
  },
  {
   "cell_type": "code",
   "execution_count": 21,
   "id": "4ecedf1c-b3a5-4a3f-bc10-162a38df1a78",
   "metadata": {},
   "outputs": [
    {
     "data": {
      "text/plain": [
       "(5, 98)"
      ]
     },
     "execution_count": 21,
     "metadata": {},
     "output_type": "execute_result"
    }
   ],
   "source": [
    "lengths = [ v for v in avg_len.values() ]\n",
    "length_min = min(lengths)\n",
    "length_max = max(lengths)\n",
    "\n",
    "length_min, length_max"
   ]
  },
  {
   "cell_type": "markdown",
   "id": "6f5e688c-dbf4-4d90-bdf6-808c4dcbcc8c",
   "metadata": {},
   "source": [
    "#### Filling Polygons Under 3D Line [[1]](https://matplotlib.org/2.0.2/examples/mplot3d/polys3d_demo.html)"
   ]
  },
  {
   "cell_type": "code",
   "execution_count": 22,
   "id": "cabbe2f1-78c4-45bd-acad-18a27bbfdc20",
   "metadata": {},
   "outputs": [
    {
     "data": {
      "image/png": "[encoded data removed]",
      "text/plain": [
       "<Figure size 432x288 with 1 Axes>"
      ]
     },
     "metadata": {
      "needs_background": "light"
     },
     "output_type": "display_data"
    }
   ],
   "source": [
    "from mpl_toolkits.mplot3d import Axes3D\n",
    "from matplotlib.collections import PolyCollection\n",
    "import matplotlib.pyplot as plt\n",
    "from matplotlib import colors as mcolors\n",
    "import numpy as np\n",
    "\n",
    "avg_len[1900] = 5\n",
    "\n",
    "fig = plt.figure()\n",
    "#ax = fig.gca(projection='3d')\n",
    "ax = plt.axes(projection='3d')\n",
    "\n",
    "\n",
    "def cc(arg):\n",
    "    return mcolors.to_rgba(arg, alpha=0.6)\n",
    "\n",
    "'''\n",
    "xs = np.arange(length_min, length_max, 1)\n",
    "verts = []\n",
    "zs = [0.0, 1.0, 2.0, 3.0]\n",
    "for z in zs:\n",
    "    ys = [ i for i in range(0, year_max - year_min + 1)]#np.random.rand(len(xs))\n",
    "    ys[0], ys[-1] = 0, 0\n",
    "    verts.append(list(zip(xs, ys)))\n",
    "'''\n",
    "\n",
    "#print(list(avg_len[y]/length_max for y in range(year_min, year_max)))\n",
    "#print(np.random.rand(len(xs)))\n",
    "\n",
    "'''\n",
    "xs = np.arange(length_min, length_max, 1)\n",
    "#print(xs)\n",
    "verts = []\n",
    "zs = [year_min,]#list(range(0, year_max - year_min + 1))\n",
    "#print(zs)\n",
    "for z in zs: # years\n",
    "    #print(z)\n",
    "    ys = np.arange(len(xs))/len(xs)#np.array(list(avg_len[y]/length_max for y in range(year_min, year_max + 1)))\n",
    "    #ys = np.arange(0, year_max-year_min + 1)\n",
    "    #print(ys)\n",
    "    #ys[0], ys[-1] = 0, 0\n",
    "    verts.append(list(zip(xs, ys)))\n",
    "'''\n",
    "\n",
    "#print(verts)\n",
    "\n",
    "#'''\n",
    "xs = np.arange(0, 90, 0.8)\n",
    "verts = []\n",
    "zs = list(range(0, year_max - year_min + 1))#[0.0, 1.0, 2.0, 3.0, 4.0]\n",
    "for i, z in enumerate(zs):\n",
    "    year = i + year_min\n",
    "    #ys = np.array(list(avg_len[y]/length_max for y in range(year_min, year_max + 1)))#np.arange(len(xs))/len(xs)#np.random.rand(len(xs))\n",
    "    ys = np.array(list(0.0 for y in range(year_min, year_max + 1)))\n",
    "    ys[int(avg_len[year])-1] = 0.2\n",
    "    ys[int(avg_len[year])] = 0.4\n",
    "    ys[int(avg_len[year])+1] = 0.2\n",
    "    #ys[3] = 0.5\n",
    "    ys[0], ys[-1] = 0, 0\n",
    "    verts.append(list(zip(xs, ys)))\n",
    "#'''\n",
    "\n",
    "#print(verts)\n",
    "\n",
    "poly = PolyCollection(verts, facecolors=[cc('gray'), cc('g'), cc('b'),\n",
    "                                         cc('y')])\n",
    "poly.set_alpha(0.7)\n",
    "ax.add_collection3d(poly, zs=zs, zdir='y')\n",
    "\n",
    "ax.set_xlabel('X - Length')\n",
    "ax.set_xlim3d(length_min, length_max)\n",
    "#ax.set_xlim3d(0, 10)\n",
    "ax.set_ylabel('Y - Year')\n",
    "ax.set_ylim3d(0, year_max -year_min + 1)\n",
    "#ax.set_ylim3d(0, 4)\n",
    "ax.set_zlabel('Z')\n",
    "ax.set_zlim3d(0, 1)\n",
    "\n",
    "plt.show()"
   ]
  },
  {
   "cell_type": "markdown",
   "id": "f6a0d3ea-7f6f-4e8b-a192-00e905cbf6bb",
   "metadata": {},
   "source": [
    "[Ridgeline plot](https://glowingpython.blogspot.com/2020/03/ridgeline-plots-in-pure-matplotlib.html)"
   ]
  },
  {
   "cell_type": "code",
   "execution_count": null,
   "id": "618c121d-8078-400c-a3ec-4d2257ea5dc9",
   "metadata": {},
   "outputs": [],
   "source": []
  }
 ],
 "metadata": {
  "kernelspec": {
   "display_name": "Python 3 (ipykernel)",
   "language": "python",
   "name": "python3"
  },
  "language_info": {
   "codemirror_mode": {
    "name": "ipython",
    "version": 3
   },
   "file_extension": ".py",
   "mimetype": "text/x-python",
   "name": "python",
   "nbconvert_exporter": "python",
   "pygments_lexer": "ipython3",
   "version": "3.8.10"
  }
 },
 "nbformat": 4,
 "nbformat_minor": 5
}
