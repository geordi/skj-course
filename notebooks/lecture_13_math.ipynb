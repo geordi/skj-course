{
 "cells": [
  {
   "cell_type": "markdown",
   "id": "60a4007d-72af-4d6a-bd68-11382a12fc72",
   "metadata": {},
   "source": [
    "# Math Libraries in Python"
   ]
  },
  {
   "cell_type": "markdown",
   "id": "2dd4485b-0aa0-4873-83c7-f0e99bd46f17",
   "metadata": {},
   "source": [
    "### Jupyter Notebook keyboard shortcuts:\n",
    "\n",
    "`dd` - deletes a cell (*VIM strikes back* :-))"
   ]
  },
  {
   "cell_type": "markdown",
   "id": "ee71848d-63de-4b04-91b2-26c40ab258b2",
   "metadata": {},
   "source": [
    "## Import math tools"
   ]
  },
  {
   "cell_type": "markdown",
   "id": "493a1f7d-861e-44ca-aea4-da96e60ffd5b",
   "metadata": {},
   "source": [
    "Let's start with importing packages.\n",
    "\n",
    "Examples come from [SymPy docs](https://docs.sympy.org/latest/tutorial/intro.html).\n",
    "\n",
    "__Note__: `from package import *` is not really a good idea, but for sake of this demonstration it's OK."
   ]
  },
  {
   "cell_type": "code",
   "execution_count": 2,
   "id": "1d3151a6-cd58-4723-83f8-72d3442b4344",
   "metadata": {},
   "outputs": [],
   "source": [
    "from sympy import *"
   ]
  },
  {
   "cell_type": "markdown",
   "id": "4935b4af-ed34-4ed9-847d-9972891fa457",
   "metadata": {},
   "source": [
    "Let's see the difference of Python's math and SymPy math."
   ]
  },
  {
   "cell_type": "code",
   "execution_count": 24,
   "id": "104b45a1-339b-42f9-bd52-989ca79ad417",
   "metadata": {},
   "outputs": [
    {
     "data": {
      "text/plain": [
       "2.8284271247461903"
      ]
     },
     "execution_count": 24,
     "metadata": {},
     "output_type": "execute_result"
    }
   ],
   "source": [
    "import math\n",
    "math.sqrt(8)"
   ]
  },
  {
   "cell_type": "markdown",
   "id": "5d441bd2-202e-4e84-a952-e497329889fb",
   "metadata": {},
   "source": [
    "This one uses SymPy's `sqrt`."
   ]
  },
  {
   "cell_type": "code",
   "execution_count": 23,
   "id": "90b25ae4-5c3b-49d6-b636-7196e70ee9be",
   "metadata": {},
   "outputs": [
    {
     "data": {
      "text/latex": [
       "$\\displaystyle \\sqrt{3}$"
      ],
      "text/plain": [
       "sqrt(3)"
      ]
     },
     "execution_count": 23,
     "metadata": {},
     "output_type": "execute_result"
    }
   ],
   "source": [
    "sqrt(3)"
   ]
  },
  {
   "cell_type": "code",
   "execution_count": 26,
   "id": "3b953ae5-422b-4d10-a858-8ee5d9ae9906",
   "metadata": {},
   "outputs": [
    {
     "data": {
      "text/latex": [
       "$\\displaystyle 2 \\sqrt{2}$"
      ],
      "text/plain": [
       "2*sqrt(2)"
      ]
     },
     "execution_count": 26,
     "metadata": {},
     "output_type": "execute_result"
    }
   ],
   "source": [
    "sqrt(8)"
   ]
  },
  {
   "cell_type": "markdown",
   "id": "1f353035-637e-47f4-b84b-7a637395b1e8",
   "metadata": {},
   "source": [
    "### Symbolic computation"
   ]
  },
  {
   "cell_type": "code",
   "execution_count": 6,
   "id": "66e7a716-cdf5-4d92-9b83-b2ea2c542c98",
   "metadata": {},
   "outputs": [
    {
     "data": {
      "text/latex": [
       "$\\displaystyle \\frac{x^{3}}{3} + \\frac{x^{2}}{2} + x$"
      ],
      "text/plain": [
       "x**3/3 + x**2/2 + x"
      ]
     },
     "execution_count": 6,
     "metadata": {},
     "output_type": "execute_result"
    }
   ],
   "source": [
    "x = Symbol('x')\n",
    "integrate(x**2 + x + 1, x)"
   ]
  },
  {
   "cell_type": "code",
   "execution_count": 8,
   "id": "c08e6470-44d5-4ec0-81d6-1dbae096c4da",
   "metadata": {},
   "outputs": [
    {
     "data": {
      "text/latex": [
       "$\\displaystyle \\frac{\\sqrt{\\pi} \\operatorname{erf}^{2}{\\left(x \\right)}}{4}$"
      ],
      "text/plain": [
       "sqrt(pi)*erf(x)**2/4"
      ]
     },
     "execution_count": 8,
     "metadata": {},
     "output_type": "execute_result"
    }
   ],
   "source": [
    "integrate(exp(-x**2) * erf(x), x)"
   ]
  },
  {
   "cell_type": "code",
   "execution_count": 13,
   "id": "8a844e2f-444e-4ffd-9870-a94f0c694836",
   "metadata": {},
   "outputs": [
    {
     "data": {
      "text/latex": [
       "$\\displaystyle e^{x} \\sin{\\left(x \\right)} + e^{x} \\cos{\\left(x \\right)}$"
      ],
      "text/plain": [
       "exp(x)*sin(x) + exp(x)*cos(x)"
      ]
     },
     "execution_count": 13,
     "metadata": {},
     "output_type": "execute_result"
    }
   ],
   "source": [
    "diff(sin(x)*exp(x), x)"
   ]
  },
  {
   "cell_type": "markdown",
   "id": "90d704c3-8bf8-4af3-829e-2bbfc30f8125",
   "metadata": {},
   "source": [
    "Notice the space between symbols `a` and `b`."
   ]
  },
  {
   "cell_type": "code",
   "execution_count": 15,
   "id": "86fe1832-1a12-40aa-a9b8-85ec5d2ff9af",
   "metadata": {},
   "outputs": [],
   "source": [
    "x, y = symbols('x y')\n",
    "f = x**2 / y + 2*x - ln(y)"
   ]
  },
  {
   "cell_type": "code",
   "execution_count": 16,
   "id": "79fa79ab-5c0e-4ae7-b448-0d6336e177a8",
   "metadata": {},
   "outputs": [
    {
     "data": {
      "text/latex": [
       "$\\displaystyle \\frac{2 x}{y} + 2$"
      ],
      "text/plain": [
       "2*x/y + 2"
      ]
     },
     "execution_count": 16,
     "metadata": {},
     "output_type": "execute_result"
    }
   ],
   "source": [
    "diff(f, x)"
   ]
  },
  {
   "cell_type": "code",
   "execution_count": 14,
   "id": "030a7439-aaca-484a-a9b0-0f63ecf89698",
   "metadata": {},
   "outputs": [
    {
     "data": {
      "text/latex": [
       "$\\displaystyle - \\frac{x^{2}}{y^{2}} - \\frac{1}{y}$"
      ],
      "text/plain": [
       "-x**2/y**2 - 1/y"
      ]
     },
     "execution_count": 14,
     "metadata": {},
     "output_type": "execute_result"
    }
   ],
   "source": [
    "diff(f, y)"
   ]
  },
  {
   "cell_type": "code",
   "execution_count": 17,
   "id": "059c8710-abe3-423b-bb66-dc04a4059761",
   "metadata": {},
   "outputs": [
    {
     "data": {
      "text/latex": [
       "$\\displaystyle - \\frac{2 x}{y^{2}}$"
      ],
      "text/plain": [
       "-2*x/y**2"
      ]
     },
     "execution_count": 17,
     "metadata": {},
     "output_type": "execute_result"
    }
   ],
   "source": [
    "diff(diff(f, x), y)"
   ]
  },
  {
   "cell_type": "code",
   "execution_count": 18,
   "id": "9ccd5f4e-8df4-4321-8eae-afe6303414dc",
   "metadata": {},
   "outputs": [
    {
     "data": {
      "text/latex": [
       "$\\displaystyle 1$"
      ],
      "text/plain": [
       "1"
      ]
     },
     "execution_count": 18,
     "metadata": {},
     "output_type": "execute_result"
    }
   ],
   "source": [
    "limit(sin(x)/x, x, 0)"
   ]
  },
  {
   "cell_type": "markdown",
   "id": "fb4838f8-5c31-420a-9c2b-bd305a421cce",
   "metadata": {},
   "source": [
    "Solve $x^2 - 2 = 0$."
   ]
  },
  {
   "cell_type": "code",
   "execution_count": 19,
   "id": "932905a3-ccf1-415a-b069-b502eae232ea",
   "metadata": {},
   "outputs": [
    {
     "data": {
      "text/plain": [
       "[-sqrt(2), sqrt(2)]"
      ]
     },
     "execution_count": 19,
     "metadata": {},
     "output_type": "execute_result"
    }
   ],
   "source": [
    "solve(x**2 - 2, x)"
   ]
  },
  {
   "cell_type": "code",
   "execution_count": 20,
   "id": "8b5674c0-4343-492e-9bec-dabd472ab117",
   "metadata": {},
   "outputs": [
    {
     "data": {
      "text/latex": [
       "$\\displaystyle 2 \\sqrt{2}$"
      ],
      "text/plain": [
       "2*sqrt(2)"
      ]
     },
     "execution_count": 20,
     "metadata": {},
     "output_type": "execute_result"
    }
   ],
   "source": [
    "sqrt(8)"
   ]
  },
  {
   "cell_type": "markdown",
   "id": "aa835345-1003-459c-aea5-8e3fb24d2924",
   "metadata": {},
   "source": [
    "Find the eigenvalues of $\\left[\\begin{matrix}1 & 2 \\\\ 2 & 2\\end{matrix}\\right]$."
   ]
  },
  {
   "cell_type": "markdown",
   "id": "ec79bab9-5b41-4f80-977d-a84e143677d7",
   "metadata": {},
   "source": [
    "## NumPy"
   ]
  },
  {
   "cell_type": "markdown",
   "id": "52542994-ab31-4d7f-9260-036b33adb710",
   "metadata": {},
   "source": [
    "[NumPy](https://numpy.org) is the fundamental package for scientific computing in Python [1].\n",
    "\n",
    "See [NumPy documentation](https://numpy.org/doc/stable/user/index.html) and [NumPy tutorials](https://numpy.org/numpy-tutorials/applications.html). For applied math students there's a [NumPy for MATLAB users](https://numpy.org/doc/stable/user/numpy-for-matlab-users.html) guide.\n",
    "\n",
    "[1] [https://numpy.org/doc/stable/user/whatisnumpy.html](https://numpy.org/doc/stable/user/whatisnumpy.html)"
   ]
  },
  {
   "cell_type": "code",
   "execution_count": null,
   "id": "87fdac66-0de6-4d6a-bf07-5c54fd01499a",
   "metadata": {},
   "outputs": [],
   "source": []
  }
 ],
 "metadata": {
  "kernelspec": {
   "display_name": "Python 3 (ipykernel)",
   "language": "python",
   "name": "python3"
  },
  "language_info": {
   "codemirror_mode": {
    "name": "ipython",
    "version": 3
   },
   "file_extension": ".py",
   "mimetype": "text/x-python",
   "name": "python",
   "nbconvert_exporter": "python",
   "pygments_lexer": "ipython3",
   "version": "3.8.10"
  }
 },
 "nbformat": 4,
 "nbformat_minor": 5
}
